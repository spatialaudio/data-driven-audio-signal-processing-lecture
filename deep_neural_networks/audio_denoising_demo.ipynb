{
 "cells": [
  {
   "cell_type": "markdown",
   "id": "6a7b81d0",
   "metadata": {},
   "source": [
    "## Demonstration of Audio Denoising\n",
    "\n",
    "This jupyter notebook is part of a [collection of notebooks](../index.ipynb) on various topics of Data-Driven Signal Processing. Please direct questions and suggestions to [Sascha.Spors@uni-rostock.de](mailto:Sascha.Spors@uni-rostock.de)."
   ]
  },
  {
   "cell_type": "markdown",
   "id": "b1655d7b",
   "metadata": {},
   "source": [
    "The denoising of audio samples is demonstrated using a deep neural regression network consisting of fully-connected layers. The noisy input signal is split into overlapping segments and the magnitude of the short-time Fourier transform (STFT) of the current and 7 past segments is used as feature. The output for the supervised training is the magnitude of the STFT of the current segment of the noise-free signal.\n",
    "\n",
    "This example was inspired by the paper of Liu, D. & Smaragdis, P. & Kim, Minje. (2014). Experiments on deep learning for speech denoising. Proceedings of the Annual Conference of the International Speech Communication Association, INTERSPEECH. 2685-2689."
   ]
  },
  {
   "cell_type": "code",
   "execution_count": 1,
   "id": "b3c54722",
   "metadata": {},
   "outputs": [],
   "source": [
    "import numpy as np\n",
    "import matplotlib.pyplot as plt\n",
    "import soundfile as sf\n",
    "\n",
    "from scipy.signal import decimate\n",
    "from librosa import stft, istft\n",
    "\n",
    "from sklearn.model_selection import train_test_split\n",
    "\n",
    "from tensorflow.keras.layers import Input, Dense, Activation, Flatten, Normalization\n",
    "from tensorflow.keras.models import Model\n",
    "from tensorflow.keras.callbacks import EarlyStopping"
   ]
  },
  {
   "cell_type": "code",
   "execution_count": 2,
   "id": "a35d678c",
   "metadata": {},
   "outputs": [],
   "source": [
    "training_path = '../data/froschkoenig_female_speaker.wav'  # clean audio file used for training\n",
    "noise_path = '../data/babble_noise.wav'  # additive noise for impairment of clean audio\n",
    "testing_path = '../data/single_words_female_speaker.wav'  # clean audio used for testing the network"
   ]
  },
  {
   "cell_type": "markdown",
   "id": "37a292a5",
   "metadata": {},
   "source": [
    "### Generate Examples\n",
    "\n",
    "The features/outputs used for training the regression network are computed by impairing a clean speech recording by babble noise."
   ]
  },
  {
   "cell_type": "code",
   "execution_count": 3,
   "id": "7b3a3add",
   "metadata": {},
   "outputs": [],
   "source": [
    "def generate_features(y, n, n_fft=256, hop_length=64, nseg=8):\n",
    "\n",
    "    # normalize inputs\n",
    "    y = y/np.max(np.abs(y[:]))\n",
    "    n = n/np.max(np.abs(n[:]))\n",
    "\n",
    "    # add background noise to signal\n",
    "    x = y + .7 * n[:len(y)]\n",
    "    x = x/np.max(np.abs(x[:]))\n",
    "\n",
    "    # STFTs of clean and noisy signal\n",
    "    Y = stft(y, n_fft=n_fft, hop_length=hop_length).T\n",
    "    Y = np.abs(Y)\n",
    "    X = stft(x, n_fft=n_fft, hop_length=hop_length).T\n",
    "    phiX = np.angle(X[nseg-1:, :])\n",
    "    X = np.abs(X)\n",
    "\n",
    "    # stack segments as features\n",
    "    Y = Y[nseg-1:, :]\n",
    "    X = [X[n:n+nseg, :] for n in range(len(Y))]\n",
    "    X = np.array(X)\n",
    "\n",
    "    return X, x, Y, phiX"
   ]
  },
  {
   "cell_type": "code",
   "execution_count": 4,
   "id": "6c66352e",
   "metadata": {},
   "outputs": [
    {
     "name": "stdout",
     "output_type": "stream",
     "text": [
      "dimensions of features (49956, 8, 129)\n",
      "dimensions of outputs (49956, 129)\n"
     ]
    }
   ],
   "source": [
    "y, fs = sf.read(training_path)\n",
    "y = decimate(y, 2)\n",
    "fs = fs//2\n",
    "\n",
    "n, _ = sf.read(noise_path)\n",
    "n = n[:, 0]\n",
    "n = decimate(n, 2)\n",
    "n = np.hstack((n, n, n))\n",
    "\n",
    "X, x, Y, phiX = generate_features(y, n)\n",
    "\n",
    "print(f'dimensions of features {X.shape}')\n",
    "print(f'dimensions of outputs {Y.shape}')"
   ]
  },
  {
   "cell_type": "markdown",
   "id": "8c8a2889",
   "metadata": {},
   "source": [
    "Let's listen to the noisy audio used for the training"
   ]
  },
  {
   "cell_type": "code",
   "execution_count": 5,
   "id": "b762eaa6",
   "metadata": {},
   "outputs": [],
   "source": [
    "sf.write('training_example.wav', x, fs)"
   ]
  },
  {
   "cell_type": "markdown",
   "id": "3994a001",
   "metadata": {},
   "source": [
    "<audio src=\"training_example.wav\" controls>"
   ]
  },
  {
   "cell_type": "markdown",
   "id": "91db0aa7",
   "metadata": {},
   "source": [
    "### Define and Train the Model\n",
    "\n",
    "The model is defined as a concatenation of an input layer, a normalization layer, two hidden layers and an output layer. For the model, the output shapes of the individual layers, as well as the number of parameters that have to be determined in the training phase are summarized."
   ]
  },
  {
   "cell_type": "code",
   "execution_count": 6,
   "id": "205fa309",
   "metadata": {},
   "outputs": [
    {
     "data": {
      "text/html": [
       "<pre style=\"white-space:pre;overflow-x:auto;line-height:normal;font-family:Menlo,'DejaVu Sans Mono',consolas,'Courier New',monospace\"><span style=\"font-weight: bold\">Model: \"functional\"</span>\n",
       "</pre>\n"
      ],
      "text/plain": [
       "\u001b[1mModel: \"functional\"\u001b[0m\n"
      ]
     },
     "metadata": {},
     "output_type": "display_data"
    },
    {
     "data": {
      "text/html": [
       "<pre style=\"white-space:pre;overflow-x:auto;line-height:normal;font-family:Menlo,'DejaVu Sans Mono',consolas,'Courier New',monospace\">┏━━━━━━━━━━━━━━━━━━━━━━━━━━━━━━━━━┳━━━━━━━━━━━━━━━━━━━━━━━━┳━━━━━━━━━━━━━━━┓\n",
       "┃<span style=\"font-weight: bold\"> Layer (type)                    </span>┃<span style=\"font-weight: bold\"> Output Shape           </span>┃<span style=\"font-weight: bold\">       Param # </span>┃\n",
       "┡━━━━━━━━━━━━━━━━━━━━━━━━━━━━━━━━━╇━━━━━━━━━━━━━━━━━━━━━━━━╇━━━━━━━━━━━━━━━┩\n",
       "│ input_layer (<span style=\"color: #0087ff; text-decoration-color: #0087ff\">InputLayer</span>)        │ (<span style=\"color: #00d7ff; text-decoration-color: #00d7ff\">None</span>, <span style=\"color: #00af00; text-decoration-color: #00af00\">8</span>, <span style=\"color: #00af00; text-decoration-color: #00af00\">129</span>)         │             <span style=\"color: #00af00; text-decoration-color: #00af00\">0</span> │\n",
       "├─────────────────────────────────┼────────────────────────┼───────────────┤\n",
       "│ normalization (<span style=\"color: #0087ff; text-decoration-color: #0087ff\">Normalization</span>)   │ (<span style=\"color: #00d7ff; text-decoration-color: #00d7ff\">None</span>, <span style=\"color: #00af00; text-decoration-color: #00af00\">8</span>, <span style=\"color: #00af00; text-decoration-color: #00af00\">129</span>)         │             <span style=\"color: #00af00; text-decoration-color: #00af00\">3</span> │\n",
       "├─────────────────────────────────┼────────────────────────┼───────────────┤\n",
       "│ dense (<span style=\"color: #0087ff; text-decoration-color: #0087ff\">Dense</span>)                   │ (<span style=\"color: #00d7ff; text-decoration-color: #00d7ff\">None</span>, <span style=\"color: #00af00; text-decoration-color: #00af00\">8</span>, <span style=\"color: #00af00; text-decoration-color: #00af00\">1024</span>)        │       <span style=\"color: #00af00; text-decoration-color: #00af00\">133,120</span> │\n",
       "├─────────────────────────────────┼────────────────────────┼───────────────┤\n",
       "│ activation (<span style=\"color: #0087ff; text-decoration-color: #0087ff\">Activation</span>)         │ (<span style=\"color: #00d7ff; text-decoration-color: #00d7ff\">None</span>, <span style=\"color: #00af00; text-decoration-color: #00af00\">8</span>, <span style=\"color: #00af00; text-decoration-color: #00af00\">1024</span>)        │             <span style=\"color: #00af00; text-decoration-color: #00af00\">0</span> │\n",
       "├─────────────────────────────────┼────────────────────────┼───────────────┤\n",
       "│ dense_1 (<span style=\"color: #0087ff; text-decoration-color: #0087ff\">Dense</span>)                 │ (<span style=\"color: #00d7ff; text-decoration-color: #00d7ff\">None</span>, <span style=\"color: #00af00; text-decoration-color: #00af00\">8</span>, <span style=\"color: #00af00; text-decoration-color: #00af00\">1024</span>)        │     <span style=\"color: #00af00; text-decoration-color: #00af00\">1,049,600</span> │\n",
       "├─────────────────────────────────┼────────────────────────┼───────────────┤\n",
       "│ activation_1 (<span style=\"color: #0087ff; text-decoration-color: #0087ff\">Activation</span>)       │ (<span style=\"color: #00d7ff; text-decoration-color: #00d7ff\">None</span>, <span style=\"color: #00af00; text-decoration-color: #00af00\">8</span>, <span style=\"color: #00af00; text-decoration-color: #00af00\">1024</span>)        │             <span style=\"color: #00af00; text-decoration-color: #00af00\">0</span> │\n",
       "├─────────────────────────────────┼────────────────────────┼───────────────┤\n",
       "│ flatten (<span style=\"color: #0087ff; text-decoration-color: #0087ff\">Flatten</span>)               │ (<span style=\"color: #00d7ff; text-decoration-color: #00d7ff\">None</span>, <span style=\"color: #00af00; text-decoration-color: #00af00\">8192</span>)           │             <span style=\"color: #00af00; text-decoration-color: #00af00\">0</span> │\n",
       "├─────────────────────────────────┼────────────────────────┼───────────────┤\n",
       "│ dense_2 (<span style=\"color: #0087ff; text-decoration-color: #0087ff\">Dense</span>)                 │ (<span style=\"color: #00d7ff; text-decoration-color: #00d7ff\">None</span>, <span style=\"color: #00af00; text-decoration-color: #00af00\">129</span>)            │     <span style=\"color: #00af00; text-decoration-color: #00af00\">1,056,897</span> │\n",
       "└─────────────────────────────────┴────────────────────────┴───────────────┘\n",
       "</pre>\n"
      ],
      "text/plain": [
       "┏━━━━━━━━━━━━━━━━━━━━━━━━━━━━━━━━━┳━━━━━━━━━━━━━━━━━━━━━━━━┳━━━━━━━━━━━━━━━┓\n",
       "┃\u001b[1m \u001b[0m\u001b[1mLayer (type)                   \u001b[0m\u001b[1m \u001b[0m┃\u001b[1m \u001b[0m\u001b[1mOutput Shape          \u001b[0m\u001b[1m \u001b[0m┃\u001b[1m \u001b[0m\u001b[1m      Param #\u001b[0m\u001b[1m \u001b[0m┃\n",
       "┡━━━━━━━━━━━━━━━━━━━━━━━━━━━━━━━━━╇━━━━━━━━━━━━━━━━━━━━━━━━╇━━━━━━━━━━━━━━━┩\n",
       "│ input_layer (\u001b[38;5;33mInputLayer\u001b[0m)        │ (\u001b[38;5;45mNone\u001b[0m, \u001b[38;5;34m8\u001b[0m, \u001b[38;5;34m129\u001b[0m)         │             \u001b[38;5;34m0\u001b[0m │\n",
       "├─────────────────────────────────┼────────────────────────┼───────────────┤\n",
       "│ normalization (\u001b[38;5;33mNormalization\u001b[0m)   │ (\u001b[38;5;45mNone\u001b[0m, \u001b[38;5;34m8\u001b[0m, \u001b[38;5;34m129\u001b[0m)         │             \u001b[38;5;34m3\u001b[0m │\n",
       "├─────────────────────────────────┼────────────────────────┼───────────────┤\n",
       "│ dense (\u001b[38;5;33mDense\u001b[0m)                   │ (\u001b[38;5;45mNone\u001b[0m, \u001b[38;5;34m8\u001b[0m, \u001b[38;5;34m1024\u001b[0m)        │       \u001b[38;5;34m133,120\u001b[0m │\n",
       "├─────────────────────────────────┼────────────────────────┼───────────────┤\n",
       "│ activation (\u001b[38;5;33mActivation\u001b[0m)         │ (\u001b[38;5;45mNone\u001b[0m, \u001b[38;5;34m8\u001b[0m, \u001b[38;5;34m1024\u001b[0m)        │             \u001b[38;5;34m0\u001b[0m │\n",
       "├─────────────────────────────────┼────────────────────────┼───────────────┤\n",
       "│ dense_1 (\u001b[38;5;33mDense\u001b[0m)                 │ (\u001b[38;5;45mNone\u001b[0m, \u001b[38;5;34m8\u001b[0m, \u001b[38;5;34m1024\u001b[0m)        │     \u001b[38;5;34m1,049,600\u001b[0m │\n",
       "├─────────────────────────────────┼────────────────────────┼───────────────┤\n",
       "│ activation_1 (\u001b[38;5;33mActivation\u001b[0m)       │ (\u001b[38;5;45mNone\u001b[0m, \u001b[38;5;34m8\u001b[0m, \u001b[38;5;34m1024\u001b[0m)        │             \u001b[38;5;34m0\u001b[0m │\n",
       "├─────────────────────────────────┼────────────────────────┼───────────────┤\n",
       "│ flatten (\u001b[38;5;33mFlatten\u001b[0m)               │ (\u001b[38;5;45mNone\u001b[0m, \u001b[38;5;34m8192\u001b[0m)           │             \u001b[38;5;34m0\u001b[0m │\n",
       "├─────────────────────────────────┼────────────────────────┼───────────────┤\n",
       "│ dense_2 (\u001b[38;5;33mDense\u001b[0m)                 │ (\u001b[38;5;45mNone\u001b[0m, \u001b[38;5;34m129\u001b[0m)            │     \u001b[38;5;34m1,056,897\u001b[0m │\n",
       "└─────────────────────────────────┴────────────────────────┴───────────────┘\n"
      ]
     },
     "metadata": {},
     "output_type": "display_data"
    },
    {
     "data": {
      "text/html": [
       "<pre style=\"white-space:pre;overflow-x:auto;line-height:normal;font-family:Menlo,'DejaVu Sans Mono',consolas,'Courier New',monospace\"><span style=\"font-weight: bold\"> Total params: </span><span style=\"color: #00af00; text-decoration-color: #00af00\">2,239,620</span> (8.54 MB)\n",
       "</pre>\n"
      ],
      "text/plain": [
       "\u001b[1m Total params: \u001b[0m\u001b[38;5;34m2,239,620\u001b[0m (8.54 MB)\n"
      ]
     },
     "metadata": {},
     "output_type": "display_data"
    },
    {
     "data": {
      "text/html": [
       "<pre style=\"white-space:pre;overflow-x:auto;line-height:normal;font-family:Menlo,'DejaVu Sans Mono',consolas,'Courier New',monospace\"><span style=\"font-weight: bold\"> Trainable params: </span><span style=\"color: #00af00; text-decoration-color: #00af00\">2,239,617</span> (8.54 MB)\n",
       "</pre>\n"
      ],
      "text/plain": [
       "\u001b[1m Trainable params: \u001b[0m\u001b[38;5;34m2,239,617\u001b[0m (8.54 MB)\n"
      ]
     },
     "metadata": {},
     "output_type": "display_data"
    },
    {
     "data": {
      "text/html": [
       "<pre style=\"white-space:pre;overflow-x:auto;line-height:normal;font-family:Menlo,'DejaVu Sans Mono',consolas,'Courier New',monospace\"><span style=\"font-weight: bold\"> Non-trainable params: </span><span style=\"color: #00af00; text-decoration-color: #00af00\">3</span> (16.00 B)\n",
       "</pre>\n"
      ],
      "text/plain": [
       "\u001b[1m Non-trainable params: \u001b[0m\u001b[38;5;34m3\u001b[0m (16.00 B)\n"
      ]
     },
     "metadata": {},
     "output_type": "display_data"
    }
   ],
   "source": [
    "normalizer = Normalization(axis=None)\n",
    "\n",
    "\n",
    "def dnn_model(input_shape=(8, 129)):\n",
    "\n",
    "    inputs = Input(shape=input_shape)\n",
    "\n",
    "    x = normalizer(inputs)\n",
    "\n",
    "    x = Dense(1024)(x)\n",
    "    x = Activation('relu')(x)\n",
    "\n",
    "    x = Dense(1024)(x)\n",
    "    x = Activation('relu')(x)\n",
    "\n",
    "    x = Flatten()(x)\n",
    "    x = Dense(129, activation='relu')(x)\n",
    "\n",
    "    return Model(inputs, x)\n",
    "\n",
    "\n",
    "model = dnn_model()\n",
    "model.summary()"
   ]
  },
  {
   "cell_type": "markdown",
   "id": "1dbdc117",
   "metadata": {},
   "source": [
    "Now the model is 'compiled' using the mean-squared error (MSE) as loss function together with the Adam optimizer. The examples are split into two subsets of training and validation examples. In order to avoid overfitting, Early Stopping is used to stop the training after convergence has been reached."
   ]
  },
  {
   "cell_type": "code",
   "execution_count": 7,
   "id": "1fdff9b5",
   "metadata": {},
   "outputs": [
    {
     "name": "stdout",
     "output_type": "stream",
     "text": [
      "Epoch 1/100\n",
      "\u001b[1m625/625\u001b[0m \u001b[32m━━━━━━━━━━━━━━━━━━━━\u001b[0m\u001b[37m\u001b[0m \u001b[1m46s\u001b[0m 73ms/step - loss: 0.2732 - val_loss: 0.1557\n",
      "Epoch 2/100\n",
      "\u001b[1m625/625\u001b[0m \u001b[32m━━━━━━━━━━━━━━━━━━━━\u001b[0m\u001b[37m\u001b[0m \u001b[1m46s\u001b[0m 74ms/step - loss: 0.1345 - val_loss: 0.1344\n",
      "Epoch 3/100\n",
      "\u001b[1m625/625\u001b[0m \u001b[32m━━━━━━━━━━━━━━━━━━━━\u001b[0m\u001b[37m\u001b[0m \u001b[1m46s\u001b[0m 74ms/step - loss: 0.1113 - val_loss: 0.1055\n",
      "Epoch 4/100\n",
      "\u001b[1m625/625\u001b[0m \u001b[32m━━━━━━━━━━━━━━━━━━━━\u001b[0m\u001b[37m\u001b[0m \u001b[1m46s\u001b[0m 73ms/step - loss: 0.0969 - val_loss: 0.1020\n",
      "Epoch 5/100\n",
      "\u001b[1m625/625\u001b[0m \u001b[32m━━━━━━━━━━━━━━━━━━━━\u001b[0m\u001b[37m\u001b[0m \u001b[1m46s\u001b[0m 74ms/step - loss: 0.0876 - val_loss: 0.0907\n",
      "Epoch 6/100\n",
      "\u001b[1m625/625\u001b[0m \u001b[32m━━━━━━━━━━━━━━━━━━━━\u001b[0m\u001b[37m\u001b[0m \u001b[1m46s\u001b[0m 74ms/step - loss: 0.0798 - val_loss: 0.0874\n",
      "Epoch 7/100\n",
      "\u001b[1m625/625\u001b[0m \u001b[32m━━━━━━━━━━━━━━━━━━━━\u001b[0m\u001b[37m\u001b[0m \u001b[1m46s\u001b[0m 74ms/step - loss: 0.0736 - val_loss: 0.0880\n",
      "Epoch 8/100\n",
      "\u001b[1m625/625\u001b[0m \u001b[32m━━━━━━━━━━━━━━━━━━━━\u001b[0m\u001b[37m\u001b[0m \u001b[1m46s\u001b[0m 73ms/step - loss: 0.0677 - val_loss: 0.0811\n",
      "Epoch 9/100\n",
      "\u001b[1m625/625\u001b[0m \u001b[32m━━━━━━━━━━━━━━━━━━━━\u001b[0m\u001b[37m\u001b[0m \u001b[1m46s\u001b[0m 74ms/step - loss: 0.0631 - val_loss: 0.0782\n",
      "Epoch 10/100\n",
      "\u001b[1m625/625\u001b[0m \u001b[32m━━━━━━━━━━━━━━━━━━━━\u001b[0m\u001b[37m\u001b[0m \u001b[1m45s\u001b[0m 73ms/step - loss: 0.0581 - val_loss: 0.0731\n",
      "Epoch 11/100\n",
      "\u001b[1m625/625\u001b[0m \u001b[32m━━━━━━━━━━━━━━━━━━━━\u001b[0m\u001b[37m\u001b[0m \u001b[1m45s\u001b[0m 73ms/step - loss: 0.0538 - val_loss: 0.0710\n",
      "Epoch 12/100\n",
      "\u001b[1m625/625\u001b[0m \u001b[32m━━━━━━━━━━━━━━━━━━━━\u001b[0m\u001b[37m\u001b[0m \u001b[1m45s\u001b[0m 72ms/step - loss: 0.0516 - val_loss: 0.0742\n",
      "Epoch 13/100\n",
      "\u001b[1m625/625\u001b[0m \u001b[32m━━━━━━━━━━━━━━━━━━━━\u001b[0m\u001b[37m\u001b[0m \u001b[1m44s\u001b[0m 71ms/step - loss: 0.0481 - val_loss: 0.0693\n",
      "Epoch 14/100\n",
      "\u001b[1m625/625\u001b[0m \u001b[32m━━━━━━━━━━━━━━━━━━━━\u001b[0m\u001b[37m\u001b[0m \u001b[1m45s\u001b[0m 72ms/step - loss: 0.0451 - val_loss: 0.0705\n",
      "Epoch 15/100\n",
      "\u001b[1m625/625\u001b[0m \u001b[32m━━━━━━━━━━━━━━━━━━━━\u001b[0m\u001b[37m\u001b[0m \u001b[1m45s\u001b[0m 72ms/step - loss: 0.0430 - val_loss: 0.0659\n",
      "Epoch 16/100\n",
      "\u001b[1m625/625\u001b[0m \u001b[32m━━━━━━━━━━━━━━━━━━━━\u001b[0m\u001b[37m\u001b[0m \u001b[1m44s\u001b[0m 71ms/step - loss: 0.0397 - val_loss: 0.0655\n",
      "Epoch 17/100\n",
      "\u001b[1m625/625\u001b[0m \u001b[32m━━━━━━━━━━━━━━━━━━━━\u001b[0m\u001b[37m\u001b[0m \u001b[1m44s\u001b[0m 71ms/step - loss: 0.0382 - val_loss: 0.0637\n",
      "Epoch 18/100\n",
      "\u001b[1m625/625\u001b[0m \u001b[32m━━━━━━━━━━━━━━━━━━━━\u001b[0m\u001b[37m\u001b[0m \u001b[1m44s\u001b[0m 71ms/step - loss: 0.0363 - val_loss: 0.0627\n",
      "Epoch 19/100\n",
      "\u001b[1m625/625\u001b[0m \u001b[32m━━━━━━━━━━━━━━━━━━━━\u001b[0m\u001b[37m\u001b[0m \u001b[1m44s\u001b[0m 71ms/step - loss: 0.0350 - val_loss: 0.0622\n",
      "Epoch 20/100\n",
      "\u001b[1m625/625\u001b[0m \u001b[32m━━━━━━━━━━━━━━━━━━━━\u001b[0m\u001b[37m\u001b[0m \u001b[1m45s\u001b[0m 71ms/step - loss: 0.0332 - val_loss: 0.0613\n",
      "Epoch 21/100\n",
      "\u001b[1m625/625\u001b[0m \u001b[32m━━━━━━━━━━━━━━━━━━━━\u001b[0m\u001b[37m\u001b[0m \u001b[1m45s\u001b[0m 71ms/step - loss: 0.0318 - val_loss: 0.0614\n",
      "Epoch 22/100\n",
      "\u001b[1m625/625\u001b[0m \u001b[32m━━━━━━━━━━━━━━━━━━━━\u001b[0m\u001b[37m\u001b[0m \u001b[1m44s\u001b[0m 71ms/step - loss: 0.0304 - val_loss: 0.0609\n",
      "Epoch 23/100\n",
      "\u001b[1m625/625\u001b[0m \u001b[32m━━━━━━━━━━━━━━━━━━━━\u001b[0m\u001b[37m\u001b[0m \u001b[1m44s\u001b[0m 71ms/step - loss: 0.0295 - val_loss: 0.0615\n",
      "Epoch 24/100\n",
      "\u001b[1m625/625\u001b[0m \u001b[32m━━━━━━━━━━━━━━━━━━━━\u001b[0m\u001b[37m\u001b[0m \u001b[1m44s\u001b[0m 71ms/step - loss: 0.0290 - val_loss: 0.0611\n",
      "Epoch 25/100\n",
      "\u001b[1m625/625\u001b[0m \u001b[32m━━━━━━━━━━━━━━━━━━━━\u001b[0m\u001b[37m\u001b[0m \u001b[1m44s\u001b[0m 70ms/step - loss: 0.0280 - val_loss: 0.0611\n",
      "Epoch 26/100\n",
      "\u001b[1m625/625\u001b[0m \u001b[32m━━━━━━━━━━━━━━━━━━━━\u001b[0m\u001b[37m\u001b[0m \u001b[1m44s\u001b[0m 71ms/step - loss: 0.0270 - val_loss: 0.0611\n",
      "Epoch 27/100\n",
      "\u001b[1m625/625\u001b[0m \u001b[32m━━━━━━━━━━━━━━━━━━━━\u001b[0m\u001b[37m\u001b[0m \u001b[1m44s\u001b[0m 70ms/step - loss: 0.0257 - val_loss: 0.0593\n",
      "Epoch 28/100\n",
      "\u001b[1m625/625\u001b[0m \u001b[32m━━━━━━━━━━━━━━━━━━━━\u001b[0m\u001b[37m\u001b[0m \u001b[1m44s\u001b[0m 71ms/step - loss: 0.0256 - val_loss: 0.0610\n",
      "Epoch 29/100\n",
      "\u001b[1m625/625\u001b[0m \u001b[32m━━━━━━━━━━━━━━━━━━━━\u001b[0m\u001b[37m\u001b[0m \u001b[1m44s\u001b[0m 71ms/step - loss: 0.0249 - val_loss: 0.0622\n",
      "Epoch 30/100\n",
      "\u001b[1m625/625\u001b[0m \u001b[32m━━━━━━━━━━━━━━━━━━━━\u001b[0m\u001b[37m\u001b[0m \u001b[1m44s\u001b[0m 70ms/step - loss: 0.0242 - val_loss: 0.0610\n",
      "Epoch 31/100\n",
      "\u001b[1m625/625\u001b[0m \u001b[32m━━━━━━━━━━━━━━━━━━━━\u001b[0m\u001b[37m\u001b[0m \u001b[1m44s\u001b[0m 71ms/step - loss: 0.0240 - val_loss: 0.0598\n",
      "Epoch 32/100\n",
      "\u001b[1m625/625\u001b[0m \u001b[32m━━━━━━━━━━━━━━━━━━━━\u001b[0m\u001b[37m\u001b[0m \u001b[1m44s\u001b[0m 70ms/step - loss: 0.0233 - val_loss: 0.0599\n"
     ]
    }
   ],
   "source": [
    "model.compile(loss=\"mse\", optimizer=\"adam\")\n",
    "\n",
    "X_train, X_test, Y_train, Y_test = train_test_split(X, Y, test_size=0.2)\n",
    "\n",
    "normalizer.adapt(X_train)\n",
    "\n",
    "callback = EarlyStopping(monitor='val_loss', patience=5)\n",
    "history = model.fit(X_train, Y_train, validation_data=(X_test, Y_test),\n",
    "                    callbacks=[callback], epochs=100, batch_size=64)"
   ]
  },
  {
   "cell_type": "markdown",
   "id": "38764a1d",
   "metadata": {},
   "source": [
    "### Evaluation of the Model\n",
    "\n",
    "First we take a look at the evolution of the mean-squared error over the epochs."
   ]
  },
  {
   "cell_type": "code",
   "execution_count": 8,
   "id": "50659e8d",
   "metadata": {},
   "outputs": [
    {
     "data": {
      "image/png": "[encoded data removed]",
      "text/plain": [
       "<Figure size 640x480 with 1 Axes>"
      ]
     },
     "metadata": {},
     "output_type": "display_data"
    }
   ],
   "source": [
    "def plot_history(history, key):\n",
    "    plt.figure()\n",
    "    plt.plot(history.history[key], label='training')\n",
    "    plt.plot(history.history[f'val_{key}'], label='validation')\n",
    "    plt.title(f'model {key}')\n",
    "    plt.ylabel(key)\n",
    "    plt.xlabel('epoch')\n",
    "    plt.legend()\n",
    "    plt.grid()\n",
    "\n",
    "\n",
    "plot_history(history, 'loss')"
   ]
  },
  {
   "cell_type": "markdown",
   "id": "9b1271ef",
   "metadata": {},
   "source": [
    "In order to test the model, an unseen audio example is denoised by the trained model. In order to denoise the signal with the trained network, the phase is extracted from the STFT before taking its magnitude. The input features are then fed through the network in order to compute the denoised STFT of the actual segment. The extracted phase is then used to recover the output segment using an inverse STFT."
   ]
  },
  {
   "cell_type": "code",
   "execution_count": 9,
   "id": "431523de",
   "metadata": {},
   "outputs": [
    {
     "name": "stdout",
     "output_type": "stream",
     "text": [
      "\u001b[1m194/194\u001b[0m \u001b[32m━━━━━━━━━━━━━━━━━━━━\u001b[0m\u001b[37m\u001b[0m \u001b[1m2s\u001b[0m 12ms/step\n"
     ]
    }
   ],
   "source": [
    "y_test, _ = sf.read(testing_path)\n",
    "y_test = decimate(y_test, 2)\n",
    "\n",
    "X_test, x_test, Y_test, phiX_test = generate_features(y_test, n)\n",
    "\n",
    "Yd = model.predict(X_test)\n",
    "yd = istft(Yd.T * np.exp(1j*phiX_test).T)\n",
    "yd = yd / np.max(np.abs(yd[:]))\n",
    "\n",
    "sf.write('clean_example.wav', y_test, fs)\n",
    "sf.write('noisy_example.wav', x_test, fs)\n",
    "sf.write('denoised_example.wav', yd, fs)"
   ]
  },
  {
   "cell_type": "markdown",
   "id": "3212531a",
   "metadata": {},
   "source": [
    "Lets listen to the noisy and denoised example to explore the performance of the model"
   ]
  },
  {
   "cell_type": "markdown",
   "id": "c4981a05",
   "metadata": {},
   "source": [
    "**Clean example**\n",
    "\n",
    "<audio src=\"clean_example.wav\" controls>"
   ]
  },
  {
   "cell_type": "markdown",
   "id": "ab5c221c",
   "metadata": {},
   "source": [
    "**Example impaired by babble noise**\n",
    "\n",
    "<audio src=\"noisy_example.wav\" controls>"
   ]
  },
  {
   "cell_type": "markdown",
   "id": "e21b7526",
   "metadata": {},
   "source": [
    "**Denoised example**\n",
    "\n",
    "<audio src=\"denoised_example.wav\" controls>"
   ]
  },
  {
   "cell_type": "markdown",
   "id": "146d302a",
   "metadata": {},
   "source": [
    "**Copyright**\n",
    "\n",
    "This notebook is provided as [Open Educational Resource](https://de.wikipedia.org/wiki/Open_Educational_Resources).\n",
    "The text is licensed under [Creative Commons Attribution 4.0](https://creativecommons.org/licenses/by/4.0/)\n",
    ", the code of the IPython examples under the [MIT license](https://opensource.org/licenses/MIT). Please attribute the work as follows: Sascha Spors, Data driven audio signal processing - Lecture supplementals."
   ]
  }
 ],
 "metadata": {
  "kernelspec": {
   "display_name": "Python 3 (ipykernel)",
   "language": "python",
   "name": "python3"
  },
  "language_info": {
   "codemirror_mode": {
    "name": "ipython",
    "version": 3
   },
   "file_extension": ".py",
   "mimetype": "text/x-python",
   "name": "python",
   "nbconvert_exporter": "python",
   "pygments_lexer": "ipython3",
   "version": "3.12.6"
  }
 },
 "nbformat": 4,
 "nbformat_minor": 5
}
