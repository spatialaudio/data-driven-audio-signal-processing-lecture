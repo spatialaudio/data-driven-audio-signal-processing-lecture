{
 "cells": [
  {
   "cell_type": "markdown",
   "id": "6fdbe1e3",
   "metadata": {},
   "source": [
    "# Data Driven Audio Signal Processing\n",
    "\n",
    "This collection of jupyter notebooks constitute supplementary materials to the master's course [Selected Topics in Audio Signal Processing](https://www.int.uni-rostock.de/Selected-Topics-in-Audio-Signa.49.0.html) given by [Sascha Spors](https://www.int.uni-rostock.de/Staff-Info.23+B6JmNIYXNoPWE5OTg2NmM4YzE5YzRlOWIyOTA4NTdiNTI1Mzc0YWVjJnR4X2pwc3RhZmZfcGkxJTVCc2hvd1VpZCU1RD0xMTE_.0.html) at the University of Rostock, Germany. The sources of the notebooks, as well as installation and usage instructions can be found on [GitHub](https://github.com/spatialaudio/data-driven-audio-signal-processing-lecture)."
   ]
  },
  {
   "cell_type": "markdown",
   "id": "f00f86f4",
   "metadata": {},
   "source": [
    "### 1. Introduction\n",
    "\n",
    "### 2. Problem Definition\n",
    "\n",
    "### 3. Preparation of Audio Signals\n",
    "\n",
    "* [Exemplary quality checks for audio signals](data_preparation/quality_checks.ipynb)\n",
    "* [Segmentation of signals](data_preparation/segmentation.ipynb)\n",
    "\n",
    "### 4. Audio Features and Augmentation\n",
    "\n",
    "* [Demonstration of selected time-domain features](features/time_domain_features_demo.ipynb)\n",
    "* [Demonstration of selected frequency-domain features](features/frequency_domain_features_demo.ipynb)\n",
    "* [Demonstration of selected augmentation techniques](features/augmentation_demo.ipynb)\n",
    "\n",
    "### 5. Dimensionality Reduction\n",
    "\n",
    "* [Demonstration of dimensionality reduction and denoising by the SVD](dimensionality_reduction/dimensionality_reduction_denoising_demo.ipynb)\n",
    "* [Demonstration of feature extraction for spoken digits](dimensionality_reduction/feature_extraction_spoken_digits_demo.ipynb)\n",
    "* [Demonstration of data decorrelation using the PCA](dimensionality_reduction/decorrelation_pca_demo.ipynb)\n",
    "\n",
    "### 6. Linear Regression\n",
    "\n",
    "* [Demonstration of univariate linear regression](linear_regression/univariate_linear_regression_demo.ipynb)\n",
    "* [Demonstration of bivariate linear regression](linear_regression/bivariate_linear_regression_demo.ipynb)\n",
    "* [Demonstration of regularized multivariate linear regression (Ridge regression)](linear_regression/ridge_regression_demo.ipynb)\n",
    "* [Demonstration of polynomial regression](linear_regression/polynomial_regression_demo.ipynb)\n",
    "* [Demonstration of model selection for polynomial regression](linear_regression/model_selection_polynomial_regression_demo.ipynb)\n",
    "\n",
    "### 7. Gradient Descent\n",
    "\n",
    "* [Demonstration of univariate gradient descent](gradient_descent/univariate_gradient_descent_demo.ipynb)\n",
    "* [Demonstration of bivariate gradient descent](gradient_descent/bivariate_gradient_descent_demo.ipynb)\n",
    "* [Demonstration of univariate linear regression using gradient descent](gradient_descent/univariate_regression_gradient_descent_demo.ipynb)\n",
    "* [Demonstration of system identification using gradient descent](gradient_descent/system_identification_gradient_descent_demo.ipynb)\n",
    "\n",
    "### 8. Deep Neural Networks\n",
    "\n",
    "* [Demonstration of continuous function approximation](deep_neural_networks/function_approximation_demo.ipynb)\n",
    "* [Demonstration of multiclass classification](deep_neural_networks/multiclass_classification_demo.ipynb)\n",
    "* [Demonstration of spoken digits classification](deep_neural_networks/spoken_digits_classification_demo.ipynb)\n",
    "* [Demonstration of audio denoising](deep_neural_networks/audio_denoising_demo.ipynb)\n",
    "\n",
    "### 9. Convolutional Neural Networks\n",
    "\n",
    "* [Demonstration of pattern detection by a matched filter](convolutional_neural_networks/matched_filter_demo.ipynb)\n",
    "* [Demonstration of system identification using a convolutional layer](convolutional_neural_networks/system_identification_demo.ipynb)\n",
    "* [Demonstration of spoken digits classification](convolutional_neural_networks/spoken_digits_classification_demo.ipynb)\n",
    "* [Demonstration of audio denoising](convolutional_neural_networks/audio_denoising_demo.ipynb)\n",
    "\n",
    "### 10. Evaluation and Model Selection\n",
    "\n",
    "* [Comparison of loss functions in multiclass classification](evaluation/multiclass_classification_loss_demo.ipynb)\n",
    "* [Demonstration of model selection in multiclass classification](model_selection/multiclass_classification_model_selection_demo.ipynb)\n",
    "\n",
    "### 11. Outlook\n",
    "\n",
    "* [Demonstration of spoken digits classification using LSTMs](recurrent_neural_networks/spoken_digits_classification_demo.ipynb)\n",
    "* [Demonstration of audio denoising using LSTMs](recurrent_neural_networks/audio_denoising_demo.ipynb)"
   ]
  },
  {
   "cell_type": "markdown",
   "id": "3bb8cd59",
   "metadata": {},
   "source": [
    "**Copyright**\n",
    "\n",
    "The contents are provided as [Open Educational Resource](https://de.wikipedia.org/wiki/Open_Educational_Resources).\n",
    "The text is licensed under [Creative Commons Attribution 4.0](https://creativecommons.org/licenses/by/4.0/)\n",
    ", the code of the IPython examples under the [MIT license](https://opensource.org/licenses/MIT).\n",
    "Feel free to use the entire collection, parts or even single notebooks for your\n",
    "own purposes."
   ]
  }
 ],
 "metadata": {
  "kernelspec": {
   "display_name": "Python 3 (ipykernel)",
   "language": "python",
   "name": "python3"
  },
  "language_info": {
   "codemirror_mode": {
    "name": "ipython",
    "version": 3
   },
   "file_extension": ".py",
   "mimetype": "text/x-python",
   "name": "python",
   "nbconvert_exporter": "python",
   "pygments_lexer": "ipython3",
   "version": "3.12.6"
  }
 },
 "nbformat": 4,
 "nbformat_minor": 5
}
